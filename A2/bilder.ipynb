{
 "cells": [
  {
   "cell_type": "code",
   "execution_count": null,
   "metadata": {
    "collapsed": false
   },
   "outputs": [],
   "source": [
    "import os\n",
    "import urllib.request\n",
    "import tarfile\n",
    "\n",
    "if not os.path.isfile(\"lfw-funneled.tgz\"):\n",
    "    print(\"Downloading: \" + url)\n",
    "    urllib.request.urlretrieve(\"http://vis-www.cs.umass.edu/lfw/lfw-funneled.tgz\", \"lfw-funneled.tgz\")\n",
    "if not os.path.isdir(\"lfw-funneled\"):\n",
    "    tar = tarfile.open(\"lfw-funneled.tgz\", \"r:gz\")\n",
    "    tar.extractall()\n",
    "    tar.close()\n"
   ]
  },
  {
   "cell_type": "code",
   "execution_count": 3,
   "metadata": {
    "collapsed": false
   },
   "outputs": [
    {
     "name": "stdout",
     "output_type": "stream",
     "text": [
      "PWD: C:\\Users\\Spiel\\PycharmProjects\\ML\\lfw_funneled\n"
     ]
    },
    {
     "name": "stderr",
     "output_type": "stream",
     "text": [
      "C:\\Users\\Spiel\\Anaconda3\\envs\\ml\\lib\\site-packages\\skimage\\transform\\_warps.py:105: UserWarning: The default mode, 'constant', will be changed to 'reflect' in skimage 0.15.\n  warn(\"The default mode, 'constant', will be changed to 'reflect' in \"\nC:\\Users\\Spiel\\Anaconda3\\envs\\ml\\lib\\site-packages\\skimage\\transform\\_warps.py:110: UserWarning: Anti-aliasing will be enabled by default in skimage 0.15 to avoid aliasing artifacts when down-sampling images.\n  warn(\"Anti-aliasing will be enabled by default in skimage 0.15 to \"\n"
     ]
    }
   ],
   "source": [
    "import os\n",
    "import glob\n",
    "from skimage import io, color, transform\n",
    "\n",
    "\n",
    "def image_crop_to_square(image):  # expects greyscale image\n",
    "    height, width = image.shape\n",
    "    if height > width:\n",
    "        offset = int(round(((height-width)/2)))\n",
    "        image = image[offset:height-offset, 0:width]\n",
    "    else:\n",
    "        offset = int(round(((width-height)/2)))\n",
    "        image = image[0:height, offset:width-offset]\n",
    "    return image\n",
    "\n",
    "\n",
    "def image_crop_face(image):  # expects greyscale image\n",
    "    height, width = image.shape\n",
    "    if not height == width:\n",
    "        print(\"Image is not suqare!\")\n",
    "    else:\n",
    "        fourth = int(round(height/4))\n",
    "        end = fourth*3\n",
    "        return image[fourth:end, fourth:end]\n",
    "\n",
    "\n",
    "def image_scale_to_32x32(image):  # expects greyscale image\n",
    "    return transform.resize(image, (32, 32))\n",
    "\n",
    "\n",
    "persons = {}\n",
    "print(\"PWD: \" + os.getcwd())\n",
    "if not os.getcwd().endswith(\"lfw_funneled\"):\n",
    "    os.chdir(\"lfw_funneled\")\n",
    "\n",
    "dirs = glob.glob(\"*/\")      # List all directories\n",
    "for current_dir in dirs:    # Get all filenames in all directories\n",
    "    person_images = []\n",
    "    os.chdir(current_dir)\n",
    "    #print(\"Now in dir: \" + current_dir)\n",
    "    # Read in all except one image in each dir\n",
    "    images = glob.glob(\"*.jpg\")\n",
    "    images.pop(0)\n",
    "    \n",
    "    for img in images:\n",
    "        image = io.imread(img)\n",
    "        image = color.rgb2gray(image)\n",
    "        cropped = image_crop_to_square(image)\n",
    "        cropped = image_crop_face(cropped)\n",
    "        cropped = image_scale_to_32x32(cropped)\n",
    "        person_images.append(cropped)\n",
    "    persons[current_dir] = person_images\n",
    "    os.chdir(\"../\")\n",
    "\n",
    "print(persons.__sizeof__())\n",
    "\n"
   ]
  },
  {
   "cell_type": "code",
   "execution_count": null,
   "metadata": {},
   "outputs": [],
   "source": []
  }
 ],
 "metadata": {
  "kernelspec": {
   "display_name": "Python 2",
   "language": "python",
   "name": "python2"
  },
  "language_info": {
   "codemirror_mode": {
    "name": "ipython",
    "version": 2
   },
   "file_extension": ".py",
   "mimetype": "text/x-python",
   "name": "python",
   "nbconvert_exporter": "python",
   "pygments_lexer": "ipython2",
   "version": "2.7.6"
  }
 },
 "nbformat": 4,
 "nbformat_minor": 0
}
